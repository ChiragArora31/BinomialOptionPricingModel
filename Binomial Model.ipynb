{
 "cells": [
  {
   "cell_type": "markdown",
   "id": "6a1d51f1",
   "metadata": {},
   "source": [
    "# BINOMIAL MODEL FOR OPTION PRICING"
   ]
  },
  {
   "cell_type": "code",
   "execution_count": 1,
   "id": "812746fc",
   "metadata": {},
   "outputs": [],
   "source": [
    "import numpy as np\n",
    "import pandas as pd\n",
    "import math"
   ]
  },
  {
   "cell_type": "code",
   "execution_count": 2,
   "id": "a7728631",
   "metadata": {},
   "outputs": [],
   "source": [
    "#Input variables to be used(along with symbols):\n",
    "\n",
    "#Current Market Price(S)\n",
    "#Strike Price of the Option(X)\n",
    "#Risk Free Interest Rate per Period(r)\n",
    "#Number of moves(k)\n",
    "#up-factor(u)\n",
    "#down-factor(d=1/u)\n",
    "#Probability of an up-move(p)\n",
    "#No. of Periods(N)"
   ]
  },
  {
   "cell_type": "code",
   "execution_count": 3,
   "id": "c5390089",
   "metadata": {},
   "outputs": [
    {
     "name": "stdout",
     "output_type": "stream",
     "text": [
      "Enter the Number of Periods(N): 5\n",
      "Enter the Current Market Price of the Asset(S): 300\n",
      "Enter the Strike Price of the Asset(X): 432\n",
      "Enter the Up-factor(u): 1.25\n",
      "Enter the Down-factor(d): 0.8\n",
      "Enter the Risk Free Interest Rate per Period(r) in %: 6\n"
     ]
    }
   ],
   "source": [
    "N = int(input(\"Enter the Number of Periods(N): \"))\n",
    "S = float(input(\"Enter the Current Market Price of the Asset(S): \"))\n",
    "X = float(input(\"Enter the Strike Price of the Asset(X): \"))\n",
    "u= float(input(\"Enter the Up-factor(u): \"))\n",
    "d = float(input(\"Enter the Down-factor(d): \"))\n",
    "r = float(input(\"Enter the Risk Free Interest Rate per Period(r) in %: \"))/100"
   ]
  },
  {
   "cell_type": "code",
   "execution_count": 4,
   "id": "6c2535c8",
   "metadata": {},
   "outputs": [],
   "source": [
    "#calculating probability(p)\n",
    "p=round((1+r-d)/(u-d),3)"
   ]
  },
  {
   "cell_type": "code",
   "execution_count": 5,
   "id": "5cff41bf",
   "metadata": {},
   "outputs": [
    {
     "name": "stdout",
     "output_type": "stream",
     "text": [
      "50.399\n"
     ]
    }
   ],
   "source": [
    "option_prices = [0] * (N + 1)\n",
    "for k in range(N + 1):\n",
    "    option_prices[k] = max(S * (u ** k) * (d ** (N - k)) - X, 0)\n",
    "    \n",
    "for i in range(N - 1, -1, -1):\n",
    "    for k in range(i + 1):\n",
    "        option_prices[k] = (1 / (1 + r)) * (p * option_prices[k + 1] + (1 - p) * option_prices[k])\n",
    "        \n",
    "option_price = option_prices[0]\n",
    "    \n",
    "print(round(option_price,3))"
   ]
  },
  {
   "cell_type": "code",
   "execution_count": null,
   "id": "b57ed95a",
   "metadata": {},
   "outputs": [],
   "source": []
  }
 ],
 "metadata": {
  "kernelspec": {
   "display_name": "Python 3 (ipykernel)",
   "language": "python",
   "name": "python3"
  },
  "language_info": {
   "codemirror_mode": {
    "name": "ipython",
    "version": 3
   },
   "file_extension": ".py",
   "mimetype": "text/x-python",
   "name": "python",
   "nbconvert_exporter": "python",
   "pygments_lexer": "ipython3",
   "version": "3.9.12"
  }
 },
 "nbformat": 4,
 "nbformat_minor": 5
}
