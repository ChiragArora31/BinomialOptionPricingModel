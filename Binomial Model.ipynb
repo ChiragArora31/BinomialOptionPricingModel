{
 "cells": [
  {
   "cell_type": "markdown",
   "id": "6dd93abd",
   "metadata": {},
   "source": [
    "# BINOMIAL MODEL FOR OPTION PRICING"
   ]
  },
  {
   "cell_type": "code",
   "execution_count": 1,
   "id": "8007f126",
   "metadata": {},
   "outputs": [],
   "source": [
    "import numpy as np\n",
    "import pandas as pd\n",
    "import math"
   ]
  },
  {
   "cell_type": "code",
   "execution_count": 2,
   "id": "eeb0a839",
   "metadata": {},
   "outputs": [],
   "source": [
    "#Input variables to be used(along with symbols):\n",
    "\n",
    "#Current Market Price(S)\n",
    "#Strike Price of the Option(X)\n",
    "#Risk Free Interest Rate per Period(r)\n",
    "#Number of moves(k)\n",
    "#up-factor(u)\n",
    "#down-factor(d=1/u)\n",
    "#Probability of an up-move(p)\n",
    "#No. of Periods(N)"
   ]
  },
  {
   "cell_type": "code",
   "execution_count": 3,
   "id": "c73ceafe",
   "metadata": {},
   "outputs": [
    {
     "name": "stdout",
     "output_type": "stream",
     "text": [
      "Enter the Number of Periods(N): 5\n",
      "Enter the Current Market Price of the Asset(S): 300\n",
      "Enter the Strike Price of the Asset(X): 432\n",
      "Enter the Up-factor(u): 1.25\n",
      "Enter the Down-factor(d): 0.8\n",
      "Enter the Risk Free Interest Rate per Period(r) in %: 6\n"
     ]
    }
   ],
   "source": [
    "N = int(input(\"Enter the Number of Periods(N): \"))\n",
    "S = float(input(\"Enter the Current Market Price of the Asset(S): \"))\n",
    "X = float(input(\"Enter the Strike Price of the Asset(X): \"))\n",
    "u= float(input(\"Enter the Up-factor(u): \"))\n",
    "d = float(input(\"Enter the Down-factor(d): \"))\n",
    "r = float(input(\"Enter the Risk Free Interest Rate per Period(r) in %: \"))/100"
   ]
  },
  {
   "cell_type": "code",
   "execution_count": 4,
   "id": "f22aecd7",
   "metadata": {},
   "outputs": [],
   "source": [
    "#calculating probability(p)\n",
    "p=round((1+r-d)/(u-d),3)"
   ]
  },
  {
   "cell_type": "code",
   "execution_count": 5,
   "id": "a75c541d",
   "metadata": {},
   "outputs": [
    {
     "name": "stdout",
     "output_type": "stream",
     "text": [
      "50.399\n"
     ]
    }
   ],
   "source": [
    "option_prices = [0] * (N + 1)\n",
    "for k in range(N + 1):\n",
    "    option_prices[k] = max(S * (u ** k) * (d ** (N - k)) - X, 0)\n",
    "    \n",
    "for i in range(N - 1, -1, -1):\n",
    "    for k in range(i + 1):\n",
    "        option_prices[k] = (1 / (1 + r)) * (p * option_prices[k + 1] + (1 - p) * option_prices[k])\n",
    "        \n",
    "option_price = option_prices[0]\n",
    "    \n",
    "print(round(option_price,3))"
   ]
  },
  {
   "cell_type": "code",
   "execution_count": 11,
   "id": "d136840f",
   "metadata": {},
   "outputs": [
    {
     "name": "stderr",
     "output_type": "stream",
     "text": [
      "/var/folders/bp/zqydd5252sj4yrld0wqwt9vh0000gn/T/ipykernel_29632/2242162288.py:24: GradioDeprecationWarning: Usage of gradio.inputs is deprecated, and will not be supported in the future, please import your component from gradio.components\n",
      "  gr.inputs.Number(label=\"Number of Periods (N)\"),\n",
      "/var/folders/bp/zqydd5252sj4yrld0wqwt9vh0000gn/T/ipykernel_29632/2242162288.py:24: GradioDeprecationWarning: `optional` parameter is deprecated, and it has no effect\n",
      "  gr.inputs.Number(label=\"Number of Periods (N)\"),\n",
      "/var/folders/bp/zqydd5252sj4yrld0wqwt9vh0000gn/T/ipykernel_29632/2242162288.py:25: GradioDeprecationWarning: Usage of gradio.inputs is deprecated, and will not be supported in the future, please import your component from gradio.components\n",
      "  gr.inputs.Number(label=\"Current Market Price of the Asset (S)\"),\n",
      "/var/folders/bp/zqydd5252sj4yrld0wqwt9vh0000gn/T/ipykernel_29632/2242162288.py:25: GradioDeprecationWarning: `optional` parameter is deprecated, and it has no effect\n",
      "  gr.inputs.Number(label=\"Current Market Price of the Asset (S)\"),\n",
      "/var/folders/bp/zqydd5252sj4yrld0wqwt9vh0000gn/T/ipykernel_29632/2242162288.py:26: GradioDeprecationWarning: Usage of gradio.inputs is deprecated, and will not be supported in the future, please import your component from gradio.components\n",
      "  gr.inputs.Number(label=\"Strike Price of the Asset (X)\"),\n",
      "/var/folders/bp/zqydd5252sj4yrld0wqwt9vh0000gn/T/ipykernel_29632/2242162288.py:26: GradioDeprecationWarning: `optional` parameter is deprecated, and it has no effect\n",
      "  gr.inputs.Number(label=\"Strike Price of the Asset (X)\"),\n",
      "/var/folders/bp/zqydd5252sj4yrld0wqwt9vh0000gn/T/ipykernel_29632/2242162288.py:27: GradioDeprecationWarning: Usage of gradio.inputs is deprecated, and will not be supported in the future, please import your component from gradio.components\n",
      "  gr.inputs.Number(label=\"Up-factor (u)\"),\n",
      "/var/folders/bp/zqydd5252sj4yrld0wqwt9vh0000gn/T/ipykernel_29632/2242162288.py:27: GradioDeprecationWarning: `optional` parameter is deprecated, and it has no effect\n",
      "  gr.inputs.Number(label=\"Up-factor (u)\"),\n",
      "/var/folders/bp/zqydd5252sj4yrld0wqwt9vh0000gn/T/ipykernel_29632/2242162288.py:28: GradioDeprecationWarning: Usage of gradio.inputs is deprecated, and will not be supported in the future, please import your component from gradio.components\n",
      "  gr.inputs.Number(label=\"Down-factor (d)\"),\n",
      "/var/folders/bp/zqydd5252sj4yrld0wqwt9vh0000gn/T/ipykernel_29632/2242162288.py:28: GradioDeprecationWarning: `optional` parameter is deprecated, and it has no effect\n",
      "  gr.inputs.Number(label=\"Down-factor (d)\"),\n",
      "/var/folders/bp/zqydd5252sj4yrld0wqwt9vh0000gn/T/ipykernel_29632/2242162288.py:29: GradioDeprecationWarning: Usage of gradio.inputs is deprecated, and will not be supported in the future, please import your component from gradio.components\n",
      "  gr.inputs.Number(label=\"Risk Free Interest Rate per Period (r) in %\"),\n",
      "/var/folders/bp/zqydd5252sj4yrld0wqwt9vh0000gn/T/ipykernel_29632/2242162288.py:29: GradioDeprecationWarning: `optional` parameter is deprecated, and it has no effect\n",
      "  gr.inputs.Number(label=\"Risk Free Interest Rate per Period (r) in %\"),\n",
      "/var/folders/bp/zqydd5252sj4yrld0wqwt9vh0000gn/T/ipykernel_29632/2242162288.py:31: GradioDeprecationWarning: Usage of gradio.outputs is deprecated, and will not be supported in the future, please import your components from gradio.components\n",
      "  outputs=gr.outputs.Textbox(),\n",
      "/Users/chiragarora/opt/anaconda3/lib/python3.9/site-packages/gradio/blocks.py:699: UserWarning: Cannot load light. Caught Exception: The space light does not exist\n",
      "  warnings.warn(f\"Cannot load {theme}. Caught Exception: {str(e)}\")\n"
     ]
    },
    {
     "name": "stdout",
     "output_type": "stream",
     "text": [
      "Running on local URL:  http://127.0.0.1:7862\n",
      "\n",
      "To create a public link, set `share=True` in `launch()`.\n"
     ]
    },
    {
     "data": {
      "text/html": [
       "<div><iframe src=\"http://127.0.0.1:7862/\" width=\"100%\" height=\"500\" allow=\"autoplay; camera; microphone; clipboard-read; clipboard-write;\" frameborder=\"0\" allowfullscreen></iframe></div>"
      ],
      "text/plain": [
       "<IPython.core.display.HTML object>"
      ]
     },
     "metadata": {},
     "output_type": "display_data"
    },
    {
     "data": {
      "text/plain": []
     },
     "execution_count": 11,
     "metadata": {},
     "output_type": "execute_result"
    }
   ],
   "source": [
    "import gradio as gr\n",
    "\n",
    "def calculate_option_price(N, S, X, u, d, r):\n",
    "    p = round((1 + r - d) / (u - d), 3)\n",
    "    \n",
    "    option_prices = [0] * (N + 1)\n",
    "    for k in range(N + 1):\n",
    "        option_prices[k] = max(S * (u ** k) * (d ** (N - k)) - X, 0)\n",
    "\n",
    "    for i in range(N - 1, -1, -1):\n",
    "        for k in range(i + 1):\n",
    "            option_prices[k] = (1 / (1 + r)) * (p * option_prices[k + 1] + (1 - p) * option_prices[k])\n",
    "\n",
    "    option_price = option_prices[0]\n",
    "    return round(option_price, 3)\n",
    "\n",
    "def calculate_option_price_interface(N, S, X, u, d, r):\n",
    "    option_price = calculate_option_price(N, S, X, u, d, r)\n",
    "    return f\"The European option price at time T=0 is: {option_price}\"\n",
    "\n",
    "iface = gr.Interface(\n",
    "    fn=calculate_option_price_interface,\n",
    "    inputs=[\n",
    "        gr.inputs.Number(label=\"Number of Periods (N)\"),\n",
    "        gr.inputs.Number(label=\"Current Market Price of the Asset (S)\"),\n",
    "        gr.inputs.Number(label=\"Strike Price of the Asset (X)\"),\n",
    "        gr.inputs.Number(label=\"Up-factor (u)\"),\n",
    "        gr.inputs.Number(label=\"Down-factor (d)\"),\n",
    "        gr.inputs.Number(label=\"Risk Free Interest Rate per Period (r) in %\"),\n",
    "    ],\n",
    "    outputs=gr.outputs.Textbox(),\n",
    "    title=\"Binomial Option Pricing Calculator\",\n",
    "    description=\"Calculate the European option price using the Binomial Option Pricing Model.\",\n",
    "    theme=\"light\",  # Set the theme to light\n",
    ")\n",
    "\n",
    "iface.launch()\n"
   ]
  },
  {
   "cell_type": "code",
   "execution_count": null,
   "id": "b3b4cfbd",
   "metadata": {},
   "outputs": [],
   "source": []
  }
 ],
 "metadata": {
  "kernelspec": {
   "display_name": "Python 3 (ipykernel)",
   "language": "python",
   "name": "python3"
  },
  "language_info": {
   "codemirror_mode": {
    "name": "ipython",
    "version": 3
   },
   "file_extension": ".py",
   "mimetype": "text/x-python",
   "name": "python",
   "nbconvert_exporter": "python",
   "pygments_lexer": "ipython3",
   "version": "3.9.12"
  }
 },
 "nbformat": 4,
 "nbformat_minor": 5
}
